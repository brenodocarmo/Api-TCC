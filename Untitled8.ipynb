{
  "nbformat": 4,
  "nbformat_minor": 0,
  "metadata": {
    "colab": {
      "provenance": [],
      "authorship_tag": "ABX9TyNOgs+dHyJfdbY5AqepHHxG",
      "include_colab_link": true
    },
    "kernelspec": {
      "name": "python3",
      "display_name": "Python 3"
    },
    "language_info": {
      "name": "python"
    }
  },
  "cells": [
    {
      "cell_type": "markdown",
      "metadata": {
        "id": "view-in-github",
        "colab_type": "text"
      },
      "source": [
        "<a href=\"https://colab.research.google.com/github/brenodocarmo/Api-TCC/blob/main/Untitled8.ipynb\" target=\"_parent\"><img src=\"https://colab.research.google.com/assets/colab-badge.svg\" alt=\"Open In Colab\"/></a>"
      ]
    },
    {
      "cell_type": "code",
      "source": [
        "# Importação de Bibliotecas\n",
        "import matplotlib.pyplot as plt\n",
        "import csv\n",
        "# from pprint import pprint"
      ],
      "metadata": {
        "id": "mdXQAFB5POqj"
      },
      "execution_count": null,
      "outputs": []
    },
    {
      "cell_type": "code",
      "source": [
        "# Caminho do arquivo\n",
        "# arquivo = (\"/content/output_weight_round(1).csv\")\n",
        "arquivo = (\"/content/output_round_robin(1).csv\")\n",
        "\n",
        "# Abrir arquivo\n",
        "ler_arquivo= open(arquivo)\n",
        "\n",
        "# Ler arquivo\n",
        "linhas = csv.reader(ler_arquivo)\n",
        "\n",
        "def nome_docker(linhas_do_aquivo):\n",
        "  \"\"\"\n",
        "  Através do método de fatiamento de string do python\n",
        "  selecionamos todos os nomes das instâncias criada.\n",
        "\n",
        "  Ex:\n",
        "\n",
        "  ['487e7db09b2f', '9683b343f943', 'ba4209a480f9']\n",
        "  \"\"\"\n",
        "  nome_docker = []\n",
        "  for linha in linhas:\n",
        "      nome_docker.append(linha[0])\n",
        "  \n",
        "  return nome_docker\n",
        " \n",
        "\n",
        "lista_nome = nome_docker(linhas_do_aquivo=linhas)\n",
        "\n",
        "print(lista_nome)"
      ],
      "metadata": {
        "id": "w4r6y9g5X__i"
      },
      "execution_count": null,
      "outputs": []
    },
    {
      "cell_type": "code",
      "source": [
        "# Realiza a contagem de requisição para cada instância\n",
        "def contador_requisicao(lista):\n",
        "  dados = dict()\n",
        "\n",
        "  for nome in lista:\n",
        "    if nome in dados:\n",
        "      dados[nome] += 1\n",
        "    else:\n",
        "      dados[nome] = 1\n",
        "  \n",
        "  return dados\n",
        "\n",
        "contador_de_requisicao = contador_requisicao(lista_nome)\n",
        "\n",
        "# print(dados)\n",
        "# print(a)\n",
        "print(contador_de_requisicao)\n",
        "# {'487e7db09b2f': 636, '9683b343f943': 273, 'ba4209a480f9': 91}"
      ],
      "metadata": {
        "id": "_mlYzunqhqqZ"
      },
      "execution_count": null,
      "outputs": []
    },
    {
      "cell_type": "code",
      "source": [
        "nome_da_instancia = []\n",
        "quantidade_de_requicao = []\n",
        "\n",
        "for v_instancia, k_requisicao in contador_de_requisicao.items():\n",
        "  # print(v_contado, k_contado)\n",
        "  nome_da_instancia.append(v_instancia)\n",
        "  quantidade_de_requicao.append(k_requisicao)\n",
        "\n",
        "print(nome_da_instancia)\n",
        "print(quantidade_de_requicao)\n",
        "\n"
      ],
      "metadata": {
        "id": "kRBeGEeUahD_"
      },
      "execution_count": null,
      "outputs": []
    },
    {
      "cell_type": "code",
      "source": [
        "def display():\n",
        "  from IPython.display import HTML, display\n",
        "  display(HTML(\"\"\"\n",
        "    <style>\n",
        "    #output-body {\n",
        "      display: flex;\n",
        "      align-items: center;\n",
        "      justify-content: center;\n",
        "    }\n",
        "    </style>\n",
        "\n",
        "  \"\"\"))"
      ],
      "metadata": {
        "id": "wmhb9VXztnh8"
      },
      "execution_count": null,
      "outputs": []
    },
    {
      "cell_type": "code",
      "source": [
        "display()\n",
        "\n",
        "fig = plt.figure(figsize=(8,6))\n",
        "server = [\"docker_1\", \"docker_2\", \"docker_3\"]\n",
        "largura = 0.20\n",
        "grafh = plt.bar(server, quantidade_de_requicao, largura,color=\"orange\")\n",
        "\n",
        "plt.xticks(server)\n",
        "plt.title(\"Algoritmo Weight\")\n",
        "plt.xlabel(\"Nomes das Instâncias\")\n",
        "plt.ylabel(\"Número de Requisição\")\n",
        "\n",
        "\n",
        "for bar, v in zip(grafh, quantidade_de_requicao):\n",
        "  plt.text(bar.get_x() + bar.get_width()/2.0, bar.get_height(), v , ha=\"center\", va=\"bottom\")\n",
        "\n",
        "plt.savefig(\"teste_1.pdf\", format=\"pdf\", transparent=True, dpi=300, bbox_inches=\"tight\")\n",
        "\n",
        "\n",
        "plt.show()"
      ],
      "metadata": {
        "colab": {
          "base_uri": "https://localhost:8080/",
          "height": 405
        },
        "id": "M6gLu8iBx6vM",
        "outputId": "76965380-d6a2-4869-ddb8-896dc64c4a7c"
      },
      "execution_count": null,
      "outputs": [
        {
          "output_type": "display_data",
          "data": {
            "text/plain": [
              "<IPython.core.display.HTML object>"
            ],
            "text/html": [
              "\n",
              "    <style>\n",
              "    #output-body {\n",
              "      display: flex;\n",
              "      align-items: center;\n",
              "      justify-content: center;\n",
              "    }\n",
              "    </style>\n",
              "\n",
              "  "
            ]
          },
          "metadata": {}
        },
        {
          "output_type": "display_data",
          "data": {
            "text/plain": [
              "<Figure size 576x432 with 1 Axes>"
            ],
            "image/png": "[encoded data removed]"
          },
          "metadata": {
            "needs_background": "light"
          }
        }
      ]
    }
  ]
}