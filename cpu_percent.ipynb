{
  "nbformat": 4,
  "nbformat_minor": 0,
  "metadata": {
    "colab": {
      "provenance": [],
      "mount_file_id": "1IEgDYObfXD5WUKWQfAWKg9JZHdNl3_HH",
      "authorship_tag": "ABX9TyMzxSzGpbD/7URbw5FQa8nv",
      "include_colab_link": true
    },
    "kernelspec": {
      "name": "python3",
      "display_name": "Python 3"
    },
    "language_info": {
      "name": "python"
    }
  },
  "cells": [
    {
      "cell_type": "markdown",
      "metadata": {
        "id": "view-in-github",
        "colab_type": "text"
      },
      "source": [
        "<a href=\"https://colab.research.google.com/github/brenodocarmo/Api-TCC/blob/main/cpu_percent.ipynb\" target=\"_parent\"><img src=\"https://colab.research.google.com/assets/colab-badge.svg\" alt=\"Open In Colab\"/></a>"
      ]
    },
    {
      "cell_type": "code",
      "execution_count": 49,
      "metadata": {
        "id": "KK7N7hXemNbA"
      },
      "outputs": [],
      "source": [
        "import matplotlib.pyplot as plt\n",
        "import csv\n",
        "import pandas as pd\n",
        "import numpy as np"
      ]
    },
    {
      "cell_type": "code",
      "source": [
        "# Caminho do arquivo\n",
        "\n",
        "# arquivo = (\"/content/drive/MyDrive/TCC/Dados Coletados/cpu_info_round_robin.csv\")\n",
        "# arquivo = (\"/content/drive/MyDrive/TCC/Dados Coletados/cpu_info_up_hash.csv\")\n",
        "arquivo = (\"/content/drive/MyDrive/TCC/Dados Coletados/cpu_info_weight.csv\")\n",
        "# arquivo = (\"/content/drive/MyDrive/TCC/Dados Coletados/cpu_info_least_conn.csv\")\n",
        "\n",
        "\n",
        "\n",
        "\n",
        "# Carrega o arquivo .csv em um DataFrame\n",
        "df = pd.read_csv(arquivo)\n",
        "\n",
        "# Seleciona apenas as linhas que correspondem à sua condição\n",
        "docker_select_cpu_one = df.loc[df['Container Name'] == \"27b74737b1e4\"]\n",
        "docker_select_cpu_two = df.loc[df['Container Name'] == \"855b6efd826a\"]\n",
        "docker_select_cpu_three = df.loc[df['Container Name'] == \"78f9256f4199\"]\n",
        "\n",
        "docker_one = docker_select_cpu_one[\"CPU Percent\"].tolist()\n",
        "docker_two = docker_select_cpu_two[\"CPU Percent\"].tolist()\n",
        "docker_three = docker_select_cpu_three[\"CPU Percent\"].tolist()\n",
        "\n",
        "# Exibe as linhas selecionadas\n",
        "print(docker_one)\n",
        "print(docker_two)\n",
        "print(docker_three)\n",
        "print(df)"
      ],
      "metadata": {
        "colab": {
          "base_uri": "https://localhost:8080/"
        },
        "id": "TdBegZTfxjlp",
        "outputId": "162110cd-6310-43f1-8da5-95fa79453aea"
      },
      "execution_count": 107,
      "outputs": [
        {
          "output_type": "stream",
          "name": "stdout",
          "text": [
            "None\n",
            "None\n",
            "None\n",
            "    Container Name  CPU Percent  System CPU Percent  Memory Percent\n",
            "0     27b74737b1e4         20.8      30376350000000            25.8\n",
            "1     855b6efd826a         25.7      30384370000000            25.8\n",
            "2     78f9256f4199         37.4      30392290000000            25.8\n",
            "3     27b74737b1e4         40.3      30404210000000            25.8\n",
            "4     855b6efd826a         37.1      30412220000000            25.8\n",
            "..             ...          ...                 ...             ...\n",
            "176   78f9256f4199          3.1      31910090000000            25.8\n",
            "177   27b74737b1e4          3.3      31922190000000            25.8\n",
            "178   855b6efd826a          2.6      31930230000000            25.8\n",
            "179   78f9256f4199          5.6      31938330000000            25.8\n",
            "180   27b74737b1e4         13.8      31950270000000            25.8\n",
            "\n",
            "[181 rows x 4 columns]\n"
          ]
        }
      ]
    },
    {
      "cell_type": "code",
      "source": [
        "docker_mediana_one = np.median(sorted(docker_one))\n",
        "docker_mediana_two = np.median(sorted(docker_two))\n",
        "docker_mediana_three = np.median(sorted(docker_three))\n",
        "\n",
        "\n",
        "\n",
        "docker_percent_cpu = [docker_mediana_one, docker_mediana_two, docker_mediana_three]\n",
        "\n",
        "# print(docker_mediana_one)\n",
        "# print(docker_mediana_two)\n",
        "# print(docker_mediana_three)\n",
        "\n",
        "docker_percent_cpu\n",
        "# [35.7, 35.7, 35.9]"
      ],
      "metadata": {
        "colab": {
          "base_uri": "https://localhost:8080/"
        },
        "id": "rYkOUO5gCBTb",
        "outputId": "de1874ee-9004-43e5-965d-7d30f38f1022"
      },
      "execution_count": 120,
      "outputs": [
        {
          "output_type": "execute_result",
          "data": {
            "text/plain": [
              "[36.1, 27.3, 32.4]"
            ]
          },
          "metadata": {},
          "execution_count": 120
        }
      ]
    },
    {
      "cell_type": "code",
      "source": [
        "def display():\n",
        "  from IPython.display import HTML, display\n",
        "  display(HTML(\"\"\"\n",
        "    <style>\n",
        "    #output-body {\n",
        "      display: flex;\n",
        "      align-items: center;\n",
        "      justify-content: center;\n",
        "    }\n",
        "    </style>\n",
        "\n",
        "  \"\"\"))"
      ],
      "metadata": {
        "id": "QiYbi46WE9Fo"
      },
      "execution_count": 121,
      "outputs": []
    },
    {
      "cell_type": "code",
      "source": [
        "display()\n",
        "\n",
        "fig = plt.figure(figsize=(8,6))\n",
        "# server = nome_da_instancia\n",
        "server = [\"docker_1\", \"docker_2\", \"docker_3\"]\n",
        "largura = 0.20\n",
        "grafh = plt.bar(server, docker_percent_cpu, largura,color=\"orange\")\n",
        "\n",
        "plt.xticks(server)\n",
        "plt.title(\"Algoritmo Least Connection\")\n",
        "plt.xlabel(\"Nomes das Instâncias\")\n",
        "plt.ylabel(\"Consumo da CPU em %\")\n",
        "\n",
        "\n",
        "for bar, v in zip(grafh, docker_percent_cpu):\n",
        "  plt.text(bar.get_x() + bar.get_width()/2.0, bar.get_height(), v , ha=\"center\", va=\"bottom\")\n",
        "\n",
        "plt.savefig(\"cpu_percent_round_robin_1.pdf\", format=\"pdf\", transparent=True, dpi=300, bbox_inches=\"tight\")\n",
        "\n",
        "\n",
        "plt.show()"
      ],
      "metadata": {
        "colab": {
          "base_uri": "https://localhost:8080/",
          "height": 564
        },
        "id": "2ZHrZhVeFCiW",
        "outputId": "23399669-aacd-40fe-bbad-660579211bb2"
      },
      "execution_count": 122,
      "outputs": [
        {
          "output_type": "display_data",
          "data": {
            "text/plain": [
              "<IPython.core.display.HTML object>"
            ],
            "text/html": [
              "\n",
              "    <style>\n",
              "    #output-body {\n",
              "      display: flex;\n",
              "      align-items: center;\n",
              "      justify-content: center;\n",
              "    }\n",
              "    </style>\n",
              "\n",
              "  "
            ]
          },
          "metadata": {}
        },
        {
          "output_type": "display_data",
          "data": {
            "text/plain": [
              "<Figure size 800x600 with 1 Axes>"
            ],
            "image/png": "[encoded data removed]"
          },
          "metadata": {}
        }
      ]
    }
  ]
}